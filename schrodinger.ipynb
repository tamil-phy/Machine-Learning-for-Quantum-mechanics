{
 "cells": [
  {
   "cell_type": "code",
   "execution_count": 1,
   "metadata": {},
   "outputs": [],
   "source": [
    "import autograd.numpy as anp"
   ]
  },
  {
   "cell_type": "code",
   "execution_count": 2,
   "metadata": {},
   "outputs": [],
   "source": [
    "from autograd import grad"
   ]
  },
  {
   "cell_type": "code",
   "execution_count": 3,
   "metadata": {},
   "outputs": [],
   "source": [
    "import autograd.numpy.random as npr"
   ]
  },
  {
   "cell_type": "code",
   "execution_count": 4,
   "metadata": {},
   "outputs": [],
   "source": [
    "from matplotlib import pyplot as plt"
   ]
  },
  {
   "cell_type": "code",
   "execution_count": 6,
   "metadata": {},
   "outputs": [],
   "source": [
    "n_x = 20\n",
    "dx = 1./n_x\n",
    "n = 1\n",
    "k = n*anp.pi\n",
    "A = anp.sqrt(2)"
   ]
  },
  {
   "cell_type": "code",
   "execution_count": 7,
   "metadata": {},
   "outputs": [],
   "source": [
    "def f(x,psi,dpsi):\n",
    "    return -(k**2)*psi\n",
    "def psi_analyticsol(x):\n",
    "    return A * anp.sin(k*x)"
   ]
  },
  {
   "cell_type": "code",
   "execution_count": 10,
   "metadata": {},
   "outputs": [],
   "source": [
    "x_space = anp.linspace(0, 1, n_x)\n",
    "y_space = psi_analyticsol(x_space)"
   ]
  },
  {
   "cell_type": "code",
   "execution_count": 11,
   "metadata": {},
   "outputs": [],
   "source": [
    "def sigmoid(x):\n",
    "    return 1./(1. + anp.exp(-x))"
   ]
  },
  {
   "cell_type": "code",
   "execution_count": 12,
   "metadata": {},
   "outputs": [],
   "source": [
    "def neural_network(W, x):\n",
    "    n1 = sigmoid(anp.dot(x, W[0]))\n",
    "    return anp.dot(n1, W[1])"
   ]
  },
  {
   "cell_type": "code",
   "execution_count": 13,
   "metadata": {},
   "outputs": [],
   "source": [
    "def neural_network_x(x):\n",
    "    n1 = sigmoid(anp.dot(x, W[0]))\n",
    "    return anp.dot(n1, W[1])\n"
   ]
  },
  {
   "cell_type": "code",
   "execution_count": 14,
   "metadata": {},
   "outputs": [],
   "source": [
    "def psi_trial(x_i, net_out):\n",
    "    return (anp.pi*A)*x_i + (x_i**2)*net_out"
   ]
  },
  {
   "cell_type": "code",
   "execution_count": 18,
   "metadata": {},
   "outputs": [],
   "source": [
    "psi_1 = grad(psi_trial)\n",
    "psi_2 = grad(psi_1)"
   ]
  },
  {
   "cell_type": "code",
   "execution_count": 19,
   "metadata": {},
   "outputs": [],
   "source": [
    "def loss_function(W,x):\n",
    "    loss_sum = 0.\n",
    "    for x_i in x:\n",
    "        net_out = neural_network(W,x_i)[0][0]\n",
    "        net_out_1 = grad(neural_network_x)(x_i)\n",
    "        net_out_2 = grad(grad(neural_network_x))(x_i)\n",
    "\n",
    "        psi_t = psi_trial(x_i, net_out)\n",
    "\n",
    "        gradient_of_trial = psi_grad(x_i, net_out)\n",
    "        second_gradient_of_trial = psi_2(x_i, net_out)\n",
    "\n",
    "        func = f(x_i, psi_t, gradient_of_trial)  \n",
    "\n",
    "        err_sqr = (second_gradient_of_trial - func) ** 2\n",
    "        loss_sum += err_sqr\n",
    "\n",
    "    return loss_sum"
   ]
  },
  {
   "cell_type": "code",
   "execution_count": 34,
   "metadata": {},
   "outputs": [
    {
     "name": "stdout",
     "output_type": "stream",
     "text": [
      "383.8596853131452\n"
     ]
    }
   ],
   "source": [
    "W = [npr.randn(1, 10), npr.randn(10, 1)]\n",
    "lmb = 0.001\n",
    "\n",
    "for i in range(50):\n",
    "    loss_grad =  grad(loss_function)(W, x_space)\n",
    "\n",
    "    W[0] = W[0] - lmb * loss_grad[0]\n",
    "    W[1] = W[1] - lmb * loss_grad[1]\n",
    "\n",
    "print (loss_function(W, x_space))\n",
    "res = [psi_trial(x_i, neural_network(W, x_i)[0][0]) for x_i in x_space]"
   ]
  },
  {
   "cell_type": "code",
   "execution_count": 35,
   "metadata": {},
   "outputs": [
    {
     "data": {
      "image/png": "[encoded data removed]",
      "text/plain": [
       "<Figure size 432x288 with 1 Axes>"
      ]
     },
     "metadata": {
      "needs_background": "light"
     },
     "output_type": "display_data"
    }
   ],
   "source": [
    "plt.figure()\n",
    "plt.plot(x_space, y_space,'red', label='Analytical Solution')\n",
    "plt.plot(x_space, res, 'green', label='Approach by NN')\n",
    "plt.title('Solution of Schrodingers equation for one particle in a 1-dimensional box.')\n",
    "plt.xlabel('x')\n",
    "plt.ylabel(r'$\\Psi(x)$')\n",
    "plt.legend(loc='best', shadow=False)\n",
    "plt.show()\n"
   ]
  },
  {
   "cell_type": "code",
   "execution_count": null,
   "metadata": {},
   "outputs": [],
   "source": []
  }
 ],
 "metadata": {
  "kernelspec": {
   "display_name": "Python 3",
   "language": "python",
   "name": "python3"
  },
  "language_info": {
   "codemirror_mode": {
    "name": "ipython",
    "version": 3
   },
   "file_extension": ".py",
   "mimetype": "text/x-python",
   "name": "python",
   "nbconvert_exporter": "python",
   "pygments_lexer": "ipython3",
   "version": "3.7.6"
  }
 },
 "nbformat": 4,
 "nbformat_minor": 2
}
